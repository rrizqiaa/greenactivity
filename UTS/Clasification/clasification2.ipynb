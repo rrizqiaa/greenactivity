{
 "cells": [
  {
   "cell_type": "markdown",
   "metadata": {},
   "source": [
    "Penjelasan Kode:\n",
    "GridSearchCV:\n",
    "Untuk KMeans, parameter yang dicoba adalah n_clusters, init, dan n_init.\n",
    "Untuk DBSCAN, parameter yang dicoba adalah eps, min_samples, dan metric.\n",
    "Scoring:\n",
    "Silhouette Score digunakan sebagai metrik evaluasi untuk menilai kualitas clustering.\n",
    "Hasil Report:\n",
    "Menampilkan parameter terbaik (best_params_) dan skor silhouette untuk setiap model.\n",
    "Hasil Cluster:\n",
    "Data yang telah diklusterisasi dengan parameter terbaik disimpan dalam file CSV."
   ]
  },
  {
   "cell_type": "code",
   "execution_count": 1,
   "metadata": {},
   "outputs": [
    {
     "name": "stdout",
     "output_type": "stream",
     "text": [
      "KMeans Clustering Results:\n",
      "KMeans_Cluster\n",
      "0                 71\n",
      "1                 51\n",
      "2                 23\n",
      "Name: count, dtype: int64\n",
      "\n",
      "DBSCAN Clustering Results:\n",
      "DBSCAN_Cluster\n",
      "-1                68\n",
      " 0                63\n",
      " 2                 9\n",
      " 1                 5\n",
      "Name: count, dtype: int64\n"
     ]
    }
   ],
   "source": [
    "import pandas as pd\n",
    "from sklearn.pipeline import Pipeline\n",
    "from sklearn.preprocessing import StandardScaler\n",
    "from sklearn.cluster import KMeans, DBSCAN\n",
    "from sklearn.decomposition import PCA\n",
    "\n",
    "# Load data\n",
    "data = pd.read_csv('DATA (1).csv')\n",
    "\n",
    "# Drop non-numeric columns if necessary\n",
    "numeric_data = data.select_dtypes(include=['number'])\n",
    "\n",
    "# Pipeline for KMeans clustering\n",
    "kmeans_pipeline = Pipeline([\n",
    "    ('scaler', StandardScaler()),\n",
    "    ('pca', PCA(n_components=2)),  # Optional dimensionality reduction\n",
    "    ('kmeans', KMeans(n_clusters=3, random_state=42))\n",
    "])\n",
    "\n",
    "# Pipeline for DBSCAN clustering\n",
    "dbscan_pipeline = Pipeline([\n",
    "    ('scaler', StandardScaler()),\n",
    "    ('pca', PCA(n_components=2)),  # Optional dimensionality reduction\n",
    "    ('dbscan', DBSCAN(eps=0.5, min_samples=5))\n",
    "])\n",
    "\n",
    "# Fit and predict with KMeans\n",
    "kmeans_labels = kmeans_pipeline.fit_predict(numeric_data)\n",
    "data['KMeans_Cluster'] = kmeans_labels\n",
    "\n",
    "# Fit and predict with DBSCAN\n",
    "dbscan_labels = dbscan_pipeline.fit_predict(numeric_data)\n",
    "data['DBSCAN_Cluster'] = dbscan_labels\n",
    "\n",
    "# Print results\n",
    "print(\"KMeans Clustering Results:\")\n",
    "print(data[['KMeans_Cluster']].value_counts())\n",
    "\n",
    "print(\"\\nDBSCAN Clustering Results:\")\n",
    "print(data[['DBSCAN_Cluster']].value_counts())\n",
    "\n",
    "# Save results to a new CSV file\n",
    "data.to_csv('clustered_data.csv', index=False)\n"
   ]
  }
 ],
 "metadata": {
  "kernelspec": {
   "display_name": "cuda-gpt",
   "language": "python",
   "name": "cuda"
  },
  "language_info": {
   "codemirror_mode": {
    "name": "ipython",
    "version": 3
   },
   "file_extension": ".py",
   "mimetype": "text/x-python",
   "name": "python",
   "nbconvert_exporter": "python",
   "pygments_lexer": "ipython3",
   "version": "3.10.7"
  }
 },
 "nbformat": 4,
 "nbformat_minor": 2
}
