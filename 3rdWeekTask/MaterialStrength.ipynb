{
  "nbformat": 4,
  "nbformat_minor": 0,
  "metadata": {
    "colab": {
      "provenance": [],
      "authorship_tag": "ABX9TyPWevrud2+PQqA3k288V9Nj",
      "include_colab_link": true
    },
    "kernelspec": {
      "name": "python3",
      "display_name": "Python 3"
    },
    "language_info": {
      "name": "python"
    }
  },
  "cells": [
    {
      "cell_type": "markdown",
      "metadata": {
        "id": "view-in-github",
        "colab_type": "text"
      },
      "source": [
        "<a href=\"https://colab.research.google.com/github/rrizqiaa/MachineLearningTasks/blob/main/3rdWeekTask/MaterialStrength.ipynb\" target=\"_parent\"><img src=\"https://colab.research.google.com/assets/colab-badge.svg\" alt=\"Open In Colab\"/></a>"
      ]
    },
    {
      "cell_type": "markdown",
      "source": [
        "Import library yang dibutuhkan:\n",
        "pandas untuk membaca dan memanipulasi data.\n",
        "train_test_split untuk membagi data menjadi data latih dan uji.\n",
        "DecisionTreeRegressor, KNeighborsRegressor, LinearRegression, dan PolynomialFeatures untuk membuat model regresi.\n",
        "mean_squared_error, r2_score untuk menghitung metrik performa model."
      ],
      "metadata": {
        "id": "mIg70BfHUzKg"
      }
    },
    {
      "cell_type": "code",
      "execution_count": 1,
      "metadata": {
        "id": "909dT0inUSKI"
      },
      "outputs": [],
      "source": [
        "# Import libraries yang diperlukan\n",
        "import pandas as pd\n",
        "from sklearn.model_selection import train_test_split\n",
        "from sklearn.tree import DecisionTreeRegressor\n",
        "from sklearn.neighbors import KNeighborsRegressor\n",
        "from sklearn.linear_model import LinearRegression\n",
        "from sklearn.preprocessing import PolynomialFeatures\n",
        "from sklearn.metrics import mean_squared_error, r2_score\n",
        "import numpy as np\n",
        "\n"
      ]
    },
    {
      "cell_type": "markdown",
      "source": [
        "Baca data dari file CSV: Membaca file MaterialStrength.csv dan mempersiapkan data untuk pelatihan model."
      ],
      "metadata": {
        "id": "xRAHyL45U1Fi"
      }
    },
    {
      "cell_type": "code",
      "source": [
        "# Membaca data dari file CSV\n",
        "data = pd.read_csv('MaterialStrength.csv')\n",
        "\n",
        "# Menampilkan beberapa baris pertama dari data untuk inspeksi\n",
        "print(data.head())\n"
      ],
      "metadata": {
        "colab": {
          "base_uri": "https://localhost:8080/"
        },
        "id": "yMW-KEjMUTDW",
        "outputId": "c1c0637a-eb18-44b5-ae98-65e848d0f8ec"
      },
      "execution_count": 2,
      "outputs": [
        {
          "output_type": "stream",
          "name": "stdout",
          "text": [
            "      x1     x2   x3     x4   x5      x6     x7   x8        x9    x10  \\\n",
            "0  540.0    0.0  0.0  162.0  2.5  1040.0  676.0   28  0.300000  540.0   \n",
            "1  540.0    0.0  0.0  162.0  2.5  1055.0  676.0   28  0.300000  540.0   \n",
            "2  332.5  142.5  0.0  228.0  0.0   932.0  594.0  270  0.685714  475.0   \n",
            "3  332.5  142.5  0.0  228.0  0.0   932.0  594.0  365  0.685714  475.0   \n",
            "4  198.6  132.4  0.0  192.0  0.0   978.4  825.5  360  0.966767  331.0   \n",
            "\n",
            "        x11  x12       x13  x14  x15  target_feature  \n",
            "0  1.538462    1  0.350044  YEs   NO           79.99  \n",
            "1  1.560651    1  0.452416  yES  nOO           61.89  \n",
            "2  1.569024    0  6.704743  yEs   NO           40.27  \n",
            "3  1.569024    0  8.891596  yes  NOO           41.05  \n",
            "4  1.185221    0  8.126411  YeS   no           44.30  \n"
          ]
        }
      ]
    },
    {
      "cell_type": "markdown",
      "source": [
        "Preprocessing data:\n",
        "Mengonversi kolom target_feature ke numerik.\n",
        "Mengubah kolom kategorikal seperti \"YES\"/\"NO\" menjadi numerik menggunakan one-hot encoding."
      ],
      "metadata": {
        "id": "wWlHJRD2U3MC"
      }
    },
    {
      "cell_type": "code",
      "source": [
        "# Mengubah kolom kategorikal menjadi numerik menggunakan One-Hot Encoding\n",
        "data_encoded = pd.get_dummies(data)\n",
        "\n",
        "# Memisahkan fitur (X) dan target (y)\n",
        "X = data_encoded.drop('target_feature', axis=1)\n",
        "y = data_encoded['target_feature']\n"
      ],
      "metadata": {
        "id": "g2L4BS-6UWl5"
      },
      "execution_count": 3,
      "outputs": []
    },
    {
      "cell_type": "markdown",
      "source": [
        "Membagi data menjadi data latih dan uji:\n",
        "Menggunakan train_test_split untuk membagi data menjadi 80% latih dan 20% uji."
      ],
      "metadata": {
        "id": "kuw5r-kOU6Ss"
      }
    },
    {
      "cell_type": "code",
      "source": [
        "# Membagi data menjadi data latih dan data uji\n",
        "X_train, X_test, y_train, y_test = train_test_split(X, y, test_size=0.2, random_state=42)\n"
      ],
      "metadata": {
        "id": "Hculvy1gUYkZ"
      },
      "execution_count": 4,
      "outputs": []
    },
    {
      "cell_type": "markdown",
      "source": [
        "Model 1: Decision Tree Regression:\n",
        "Melatih model menggunakan DecisionTreeRegressor.\n",
        "Menghitung MSE, RMSE, dan R-squared."
      ],
      "metadata": {
        "id": "5faB3ADwU8c3"
      }
    },
    {
      "cell_type": "code",
      "source": [
        "# Membuat model Decision Tree\n",
        "tree_model = DecisionTreeRegressor(random_state=42)\n",
        "tree_model.fit(X_train, y_train)\n",
        "\n",
        "# Prediksi menggunakan data uji\n",
        "y_pred_tree = tree_model.predict(X_test)\n",
        "\n",
        "# Menghitung MSE, RMSE, dan R-squared untuk Decision Tree\n",
        "mse_tree = mean_squared_error(y_test, y_pred_tree)\n",
        "rmse_tree = np.sqrt(mse_tree)\n",
        "r2_tree = r2_score(y_test, y_pred_tree)\n",
        "\n",
        "print(f\"Decision Tree - MSE: {mse_tree}, RMSE: {rmse_tree}, R-squared: {r2_tree}\")\n"
      ],
      "metadata": {
        "colab": {
          "base_uri": "https://localhost:8080/"
        },
        "id": "Rq57DAWBUZa6",
        "outputId": "7394fed3-0502-40c1-f60f-2d8cc1a24fab"
      },
      "execution_count": 5,
      "outputs": [
        {
          "output_type": "stream",
          "name": "stdout",
          "text": [
            "Decision Tree - MSE: 25.144207766990288, RMSE: 5.014400040582152, R-squared: 0.9024196258297741\n"
          ]
        }
      ]
    },
    {
      "cell_type": "markdown",
      "source": [
        "Model 2: k-NN Regression:\n",
        "Melatih model menggunakan KNeighborsRegressor dengan default k=5.\n",
        "Menghitung MSE, RMSE, dan R-squared."
      ],
      "metadata": {
        "id": "t43DZBjlU-kb"
      }
    },
    {
      "cell_type": "code",
      "source": [
        "# Membuat model k-NN\n",
        "knn_model = KNeighborsRegressor()\n",
        "knn_model.fit(X_train, y_train)\n",
        "\n",
        "# Prediksi menggunakan data uji\n",
        "y_pred_knn = knn_model.predict(X_test)\n",
        "\n",
        "# Menghitung MSE, RMSE, dan R-squared untuk k-NN\n",
        "mse_knn = mean_squared_error(y_test, y_pred_knn)\n",
        "rmse_knn = np.sqrt(mse_knn)\n",
        "r2_knn = r2_score(y_test, y_pred_knn)\n",
        "\n",
        "print(f\"k-NN - MSE: {mse_knn}, RMSE: {rmse_knn}, R-squared: {r2_knn}\")\n"
      ],
      "metadata": {
        "colab": {
          "base_uri": "https://localhost:8080/"
        },
        "id": "utVlc3E5UaTv",
        "outputId": "ba681df5-394a-436d-86b6-6e83180df1fa"
      },
      "execution_count": 6,
      "outputs": [
        {
          "output_type": "stream",
          "name": "stdout",
          "text": [
            "k-NN - MSE: 74.15471675728155, RMSE: 8.611313300378843, R-squared: 0.7122182144405342\n"
          ]
        }
      ]
    },
    {
      "cell_type": "markdown",
      "source": [
        "Model 3: Regresi Linear Biasa:\n",
        "Melatih model menggunakan LinearRegression.\n",
        "Menghitung MSE, RMSE, dan R-squared."
      ],
      "metadata": {
        "id": "GpP7x4OoVBJZ"
      }
    },
    {
      "cell_type": "code",
      "source": [
        "# Membuat model Regresi Linear\n",
        "linear_model = LinearRegression()\n",
        "linear_model.fit(X_train, y_train)\n",
        "\n",
        "# Prediksi menggunakan data uji\n",
        "y_pred_linear = linear_model.predict(X_test)\n",
        "\n",
        "# Menghitung MSE, RMSE, dan R-squared untuk Regresi Linear\n",
        "mse_linear = mean_squared_error(y_test, y_pred_linear)\n",
        "rmse_linear = np.sqrt(mse_linear)\n",
        "r2_linear = r2_score(y_test, y_pred_linear)\n",
        "\n",
        "print(f\"Regresi Linear - MSE: {mse_linear}, RMSE: {rmse_linear}, R-squared: {r2_linear}\")\n"
      ],
      "metadata": {
        "colab": {
          "base_uri": "https://localhost:8080/"
        },
        "id": "rnIw4KnaUbTC",
        "outputId": "de2f3579-33ad-46a1-b6de-5b854e4491ea"
      },
      "execution_count": 7,
      "outputs": [
        {
          "output_type": "stream",
          "name": "stdout",
          "text": [
            "Regresi Linear - MSE: 75.52910197591628, RMSE: 8.690748067681877, R-squared: 0.7068844602363366\n"
          ]
        }
      ]
    },
    {
      "cell_type": "markdown",
      "source": [
        "Model 4: Regresi Linear dengan Basis Fungsi (Polynomial Regression):\n",
        "Menggunakan PolynomialFeatures untuk membuat fitur polinomial hingga derajat 2.\n",
        "Melatih model menggunakan LinearRegression dengan fitur polinomial.\n",
        "Menghitung MSE, RMSE, dan R-squared."
      ],
      "metadata": {
        "id": "OVc0MgfcVDaQ"
      }
    },
    {
      "cell_type": "code",
      "source": [
        "# Membuat fitur polinomial\n",
        "poly = PolynomialFeatures(degree=2)\n",
        "X_train_poly = poly.fit_transform(X_train)\n",
        "X_test_poly = poly.transform(X_test)\n",
        "\n",
        "# Membuat model Regresi Linear dengan fitur polinomial\n",
        "poly_model = LinearRegression()\n",
        "poly_model.fit(X_train_poly, y_train)\n",
        "\n",
        "# Prediksi menggunakan data uji\n",
        "y_pred_poly = poly_model.predict(X_test_poly)\n",
        "\n",
        "# Menghitung MSE, RMSE, dan R-squared untuk Regresi Polinomial\n",
        "mse_poly = mean_squared_error(y_test, y_pred_poly)\n",
        "rmse_poly = np.sqrt(mse_poly)\n",
        "r2_poly = r2_score(y_test, y_pred_poly)\n",
        "\n",
        "print(f\"Regresi Polinomial - MSE: {mse_poly}, RMSE: {rmse_poly}, R-squared: {r2_poly}\")\n"
      ],
      "metadata": {
        "colab": {
          "base_uri": "https://localhost:8080/"
        },
        "id": "q80rYa2ZUcRv",
        "outputId": "7c425369-36cc-44db-99ef-e33297b3c69c"
      },
      "execution_count": 8,
      "outputs": [
        {
          "output_type": "stream",
          "name": "stdout",
          "text": [
            "Regresi Polinomial - MSE: 53.937563852582855, RMSE: 7.3442197579173, R-squared: 0.790677530533487\n"
          ]
        }
      ]
    },
    {
      "cell_type": "markdown",
      "source": [
        "Membandingkan hasil model:\n",
        "Menyajikan hasil perbandingan dari keempat model berdasarkan MSE, RMSE, dan R-squared."
      ],
      "metadata": {
        "id": "1rZ_v3RBVFy8"
      }
    },
    {
      "cell_type": "code",
      "source": [
        "# Menyajikan hasil perbandingan\n",
        "print(f\"Perbandingan Model:\")\n",
        "print(f\"Decision Tree - MSE: {mse_tree}, RMSE: {rmse_tree}, R-squared: {r2_tree}\")\n",
        "print(f\"k-NN - MSE: {mse_knn}, RMSE: {rmse_knn}, R-squared: {r2_knn}\")\n",
        "print(f\"Regresi Linear - MSE: {mse_linear}, RMSE: {rmse_linear}, R-squared: {r2_linear}\")\n",
        "print(f\"Regresi Polinomial - MSE: {mse_poly}, RMSE: {rmse_poly}, R-squared: {r2_poly}\")\n"
      ],
      "metadata": {
        "colab": {
          "base_uri": "https://localhost:8080/"
        },
        "id": "Yuww7LP_UefU",
        "outputId": "f3ce97d8-6c5c-4153-dbd0-f14c280fc421"
      },
      "execution_count": 9,
      "outputs": [
        {
          "output_type": "stream",
          "name": "stdout",
          "text": [
            "Perbandingan Model:\n",
            "Decision Tree - MSE: 25.144207766990288, RMSE: 5.014400040582152, R-squared: 0.9024196258297741\n",
            "k-NN - MSE: 74.15471675728155, RMSE: 8.611313300378843, R-squared: 0.7122182144405342\n",
            "Regresi Linear - MSE: 75.52910197591628, RMSE: 8.690748067681877, R-squared: 0.7068844602363366\n",
            "Regresi Polinomial - MSE: 53.937563852582855, RMSE: 7.3442197579173, R-squared: 0.790677530533487\n"
          ]
        }
      ]
    }
  ]
}