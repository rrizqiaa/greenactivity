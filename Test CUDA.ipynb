{
 "cells": [
  {
   "cell_type": "code",
   "execution_count": 1,
   "metadata": {},
   "outputs": [
    {
     "name": "stdout",
     "output_type": "stream",
     "text": [
      "CUDA berhasil diaktifkan!\n",
      "Nama GPU yang terdeteksi: NVIDIA GeForce RTX 3060\n",
      "Jumlah GPU yang tersedia: 1\n",
      "CUDA versi PyTorch: 11.8\n",
      "Tensor berhasil dipindahkan ke GPU: tensor([1., 2., 3.], device='cuda:0')\n"
     ]
    }
   ],
   "source": [
    "import torch\n",
    "\n",
    "# Periksa apakah CUDA tersedia\n",
    "cuda_available = torch.cuda.is_available()\n",
    "\n",
    "if cuda_available:\n",
    "    print(\"CUDA berhasil diaktifkan!\")\n",
    "    print(f\"Nama GPU yang terdeteksi: {torch.cuda.get_device_name(0)}\")\n",
    "    print(f\"Jumlah GPU yang tersedia: {torch.cuda.device_count()}\")\n",
    "    print(f\"CUDA versi PyTorch: {torch.version.cuda}\")\n",
    "else:\n",
    "    print(\"CUDA tidak tersedia. Pastikan CUDA telah diinstal dengan benar.\")\n",
    "\n",
    "# Tes sederhana memindahkan tensor ke GPU\n",
    "if cuda_available:\n",
    "    x = torch.tensor([1.0, 2.0, 3.0], device=\"cuda\")\n",
    "    print(f\"Tensor berhasil dipindahkan ke GPU: {x}\")\n"
   ]
  }
 ],
 "metadata": {
  "kernelspec": {
   "display_name": "cuda-gpt",
   "language": "python",
   "name": "cuda"
  },
  "language_info": {
   "codemirror_mode": {
    "name": "ipython",
    "version": 3
   },
   "file_extension": ".py",
   "mimetype": "text/x-python",
   "name": "python",
   "nbconvert_exporter": "python",
   "pygments_lexer": "ipython3",
   "version": "3.10.6"
  }
 },
 "nbformat": 4,
 "nbformat_minor": 2
}
